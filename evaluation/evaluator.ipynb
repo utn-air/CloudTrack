{
 "cells": [
  {
   "cell_type": "markdown",
   "metadata": {},
   "source": [
    "# Result Evaluator"
   ]
  },
  {
   "cell_type": "code",
   "execution_count": 78,
   "metadata": {},
   "outputs": [],
   "source": [
    "import json, yaml\n",
    "from pathlib import Path\n",
    "import numpy as np\n",
    "from collections import namedtuple\n",
    "import matplotlib.pyplot as plt"
   ]
  },
  {
   "cell_type": "code",
   "execution_count": 79,
   "metadata": {},
   "outputs": [
    {
     "name": "stdout",
     "output_type": "stream",
     "text": [
      "The autoreload extension is already loaded. To reload it, use:\n",
      "  %reload_ext autoreload\n"
     ]
    }
   ],
   "source": [
    "from utils import *\n",
    "\n",
    "# enable auto reload\n",
    "%load_ext autoreload"
   ]
  },
  {
   "cell_type": "markdown",
   "metadata": {},
   "source": []
  },
  {
   "cell_type": "code",
   "execution_count": 80,
   "metadata": {},
   "outputs": [],
   "source": [
    "from utils import make_plot"
   ]
  },
  {
   "cell_type": "markdown",
   "metadata": {},
   "source": [
    "Definition of experiment paths: "
   ]
  },
  {
   "cell_type": "code",
   "execution_count": 81,
   "metadata": {},
   "outputs": [],
   "source": [
    "# Multiruns for re-init sensitivity study\n",
    "run_2024_03_15_22_37_44 = Path(\"/home/blei/cloud_track/evaluation/multirun/2024-03-15/22-37-44\")\n",
    "\n",
    "## Parameter optimization\n",
    "# localhost\n",
    "run_2024_04_23_16_44_02 = Path(\"/home/blei/cloud_track/evaluation/multirun/2024-04-23/16-44-02\")\n",
    "# jetson nano -> Ist ok, aber noch mit altem backend\n",
    "jetson_nano_altes_backend = Path(\"/home/blei/cloud_track/evaluation/archive/jetson_nano_runs/2024-06-04/13-46-46\")\n",
    "# rpi -> Ist kaputt, mit altem backend\n",
    "rpi_altes_backend = Path(\"/home/blei/cloud_track/evaluation/archive/rpi_runs/2024-05-03/16-41-03\")\n",
    "#jetson orin new backend\n",
    "jetson_orin_neues_backend = Path(\"/home/blei/cloud_track/evaluation/archive/jetson_orin_runs/multirun/2024-09-10/03-26-04\")\n",
    "# rpi new backend\n",
    "rpi_neues_backend = Path(\"/home/blei/cloud_track/evaluation/archive/rpi_runs/final/01-49-47\")\n",
    "\n",
    "\n",
    "# CV Tracker first try\n",
    "multirun_first_try = Path(\"/home/blei/cloud_track/evaluation/multirun/2024-04-17/16-43-06\")\n",
    "better_reinit = Path(\"/home/blei/cloud_track/outputs/2024-04-17/15-44-51\")\n",
    "\n",
    "# Runs for Naive baseline\n",
    "run_2024_03_22_14_18_00 = Path(\"/home/blei/cloud_track/evaluation/archive/outputs/2024-03-22/14-18-00\")\n",
    "\n",
    "# Runs for Deva\n",
    "run_2024_04_02_16_26_20 = Path(\"/home/blei/cloud_track/evaluation/archive/outputs/2024-04-02/16-26-20\")\n",
    "\n",
    "# select the run to analyze\n",
    "re_init_sensitivity_study = multirun_first_try\n",
    "naive_baseline = run_2024_03_22_14_18_00\n",
    "deva_baseline = run_2024_04_02_16_26_20\n",
    "#parameter_optimization = run_2024_04_23_16_44_02\n",
    "\n",
    "mode = \"pi\"\n",
    "if mode == \"jetson\":\n",
    "    parameter_optimization = jetson_orin_neues_backend\n",
    "elif mode == \"pi\":\n",
    "    parameter_optimization = rpi_neues_backend\n",
    "else:\n",
    "    raise ValueError(\"Mode not supported\")"
   ]
  },
  {
   "cell_type": "markdown",
   "metadata": {},
   "source": [
    "## Detailed Analxsis:"
   ]
  },
  {
   "cell_type": "markdown",
   "metadata": {},
   "source": [
    "#### General Layout of the dict:\n",
    "Multirun: \n",
    "\n",
    "```\n",
    "├── runs\n",
    "|   ├── 0\n",
    "|   ├── 1\n",
    "|   ├── 2\n",
    "|   ├── 3\n",
    "|   |   ├── hydra_config\n",
    "|   |   |   ├── <hydra config stuff of the run>\n",
    "|   |   ├── raw_data\n",
    "|   |   |   ├── agility (sequence name)\n",
    "|   |   |   |   ├── raw_data\n",
    "|   |   |   |   |   ├──[list of frames]: frame 1\n",
    "|   |   |   |   |   ├──[list of frames]: frame 2\n",
    "|   |   |   |   |   |   ├── frame_id\n",
    "|   |   |   |   |   |   ├── gt\n",
    "|   |   |   |   |   |   ├── box\n",
    "|   |   |   |   |   |   ├── timestamp\n",
    "|   |   |   |   |   ├── ...\n",
    "|   |   |   ├── ...\n",
    "|   |   ├── iou # the mean iou\n",
    "|   |   ├── frames # the number of frames\n",
    "|   ├── ...\n",
    "```   "
   ]
  },
  {
   "cell_type": "markdown",
   "metadata": {},
   "source": [
    "#### global data for comparison"
   ]
  },
  {
   "cell_type": "code",
   "execution_count": 82,
   "metadata": {},
   "outputs": [
    {
     "data": {
      "image/png": "[encoded data removed]",
      "text/plain": [
       "<Figure size 640x480 with 1 Axes>"
      ]
     },
     "metadata": {},
     "output_type": "display_data"
    }
   ],
   "source": [
    "fig_glob, ax_glob = plt.subplots()"
   ]
  },
  {
   "cell_type": "markdown",
   "metadata": {},
   "source": [
    " # Flextrack"
   ]
  },
  {
   "cell_type": "markdown",
   "metadata": {},
   "source": [
    "### Parameter Optimization"
   ]
  },
  {
   "cell_type": "code",
   "execution_count": 83,
   "metadata": {},
   "outputs": [
    {
     "name": "stderr",
     "output_type": "stream",
     "text": [
      "/home/blei/cloud_track/.direnv/python-3.10/lib/python3.10/site-packages/numpy/core/fromnumeric.py:3504: RuntimeWarning: Mean of empty slice.\n",
      "  return _methods._mean(a, axis=axis, dtype=dtype,\n",
      "/home/blei/cloud_track/.direnv/python-3.10/lib/python3.10/site-packages/numpy/core/_methods.py:129: RuntimeWarning: invalid value encountered in scalar divide\n",
      "  ret = ret.dtype.type(ret / rcount)\n"
     ]
    },
    {
     "name": "stdout",
     "output_type": "stream",
     "text": [
      "make free fps\n",
      "WARNING: TAKE CARE OF NOT DETECTED OBJECTS\n"
     ]
    }
   ],
   "source": [
    "# Load the multirun data\n",
    "multirun_data, mot_metrics_summary = multirun_pipeline(parameter_optimization)\n",
    "\n"
   ]
  },
  {
   "cell_type": "code",
   "execution_count": 84,
   "metadata": {},
   "outputs": [],
   "source": [
    "\n",
    "t_b_overall = []\n",
    "all_t_b = []\n",
    "backend_calls_per_run = []\n",
    "keys = list(multirun_data.keys())\n",
    "\n",
    "# turn the string keys into integers, sort them and turn them back into strings\n",
    "# remove the keys [\"00\",\"01\",\"02\"]\n",
    "keys = [key for key in keys if key not in [\"00\",\"01\",\"02\"]]\n",
    "keys = [str(key) for key in sorted([int(key) for key in keys])]\n",
    "\n",
    "for run_idx in keys:\n",
    "    run = multirun_data[run_idx][\"raw_data\"]\n",
    "    t_b = []\n",
    "    for episode in run:\n",
    "        episode = run[episode]\n",
    "        for idx, frame in enumerate(episode[\"raw_data\"]):\n",
    "            if idx == 0:\n",
    "                old_t = frame[\"timestamp\"]\n",
    "                continue\n",
    "            if frame[\"is_fm_frame\"]:\n",
    "                t_b.append(frame[\"timestamp\"] - old_t)\n",
    "                t_b_overall.append(frame[\"timestamp\"] - old_t)\n",
    "            old_t = frame[\"timestamp\"]\n",
    "    all_t_b.append(t_b)\n",
    "    backend_calls_per_run.append(len(t_b))\n",
    "    "
   ]
  },
  {
   "cell_type": "code",
   "execution_count": 85,
   "metadata": {},
   "outputs": [
    {
     "name": "stdout",
     "output_type": "stream",
     "text": [
      "Average time between backend calls: 1.4108169359449025s\n"
     ]
    }
   ],
   "source": [
    "len(t_b_overall)\n",
    "len(backend_calls_per_run)\n",
    "\n",
    "average_tb_per_run = [np.mean(t_b) for t_b in all_t_b]\n",
    "# keep only the first 10 entries\n",
    "average_tb_per_run_first_n = average_tb_per_run[:10]\n",
    "average_backend_tb = np.mean(average_tb_per_run_first_n)\n",
    "print(f\"Average time between backend calls: {average_backend_tb}s\")"
   ]
  },
  {
   "cell_type": "code",
   "execution_count": 86,
   "metadata": {},
   "outputs": [
    {
     "data": {
      "image/png": "[encoded data removed]",
      "text/plain": [
       "<Figure size 640x480 with 1 Axes>"
      ]
     },
     "metadata": {},
     "output_type": "display_data"
    }
   ],
   "source": [
    "#plot all tb values. X axis is the frame number, y axis is the tb value\n",
    "# plot a horizontal line at the average tb value\n",
    "plt.plot(average_tb_per_run)\n",
    "plt.axhline(average_backend_tb, color='r')\n",
    "plt.xlabel(\"Run\")\n",
    "plt.ylabel(\"Back end response time\")\n",
    "plt.title(\"Average back end response time over runs\")\n",
    "plt.show()\n",
    "\n",
    "\n"
   ]
  },
  {
   "cell_type": "code",
   "execution_count": 87,
   "metadata": {},
   "outputs": [
    {
     "name": "stdout",
     "output_type": "stream",
     "text": [
      "Run 7 not found.\n",
      "Run 8 not found.\n",
      "Run 9 not found.\n",
      "Run 10 not found.\n",
      "Run 11 not found.\n",
      "Run 12 not found.\n",
      "Run 41 not found.\n",
      "Run 42 not found.\n",
      "Run 43 not found.\n",
      "Run 44 not found.\n",
      "Run 45 not found.\n",
      "Run 46 not found.\n",
      "Run 47 not found.\n",
      "Run 48 not found.\n",
      "Run 49 not found.\n",
      "Run 50 not found.\n",
      "Run 51 not found.\n",
      "Run 52 not found.\n",
      "Run 53 not found.\n",
      "Run 54 not found.\n",
      "Run 55 not found.\n",
      "Run 56 not found.\n",
      "Run 57 not found.\n",
      "Run 58 not found.\n",
      "Run 59 not found.\n",
      "Run 60 not found.\n",
      "Run 61 not found.\n",
      "Run 62 not found.\n",
      "Run 63 not found.\n",
      "Run 64 not found.\n",
      "Run 65 not found.\n",
      "Run 66 not found.\n",
      "Run 67 not found.\n",
      "Run 68 not found.\n",
      "Run 69 not found.\n",
      "Run 70 not found.\n",
      "Run 71 not found.\n",
      "Run 72 not found.\n",
      "Run 73 not found.\n",
      "Run 74 not found.\n",
      "Run 75 not found.\n",
      "Run 76 not found.\n",
      "Run 77 not found.\n"
     ]
    }
   ],
   "source": [
    "relevant_keys = [\"iou\", \"fps\", \"motp\", \"free_fps\"]\n",
    "sensitivity_study_performance = gather_data_from_runs(multirun_data, relevant_keys)\n"
   ]
  },
  {
   "cell_type": "code",
   "execution_count": 88,
   "metadata": {},
   "outputs": [],
   "source": [
    "# delete all runs that have a free_fps of None\n",
    "for key in list(sensitivity_study_performance.keys()):\n",
    "    if sensitivity_study_performance[key][\"free_fps\"] == None:\n",
    "        del sensitivity_study_performance[key]"
   ]
  },
  {
   "cell_type": "code",
   "execution_count": 89,
   "metadata": {},
   "outputs": [],
   "source": [
    "import matplotlib\n",
    "\n",
    "def make_plot_old(sensitivity_study_performance, key_x, key_y, ax_glob, add_to_global: bool = False, tex_mode = False, preset=\"jetson\"):\n",
    "    # scatter plot \n",
    "    def dict_to_np_array(dict_in, key):\n",
    "        \"\"\"\n",
    "        Converts a dictionary with arrays to a numpy array.\n",
    "        \"\"\"\n",
    "        x = []\n",
    "        for run in sorted(dict_in.keys()):\n",
    "            x.append(dict_in[run][key])\n",
    "        return np.array(x)\n",
    "    \n",
    "    # color legend: yellow, green, blue for the three different trackers\n",
    "    #colors = [\"tab:green\", \"tab:blue\", \"tab:orange\"]\n",
    "    # do the same without tab:\n",
    "    colors = [\"limegreen\", \"cornflowerblue\", \"chocolate\"]\n",
    "    # add light green, light blue, light orange\n",
    "    colors_marker = [\"tab:green\", \"tab:blue\", \"tab:orange\"]\n",
    "    #colors_marker = colors\n",
    "    \n",
    "    \n",
    "    # start and end marker of the curve\n",
    "    start_marker = \".\"\n",
    "    end_marker = \"x\"\n",
    "    middle_marker = \"\"\n",
    "    \n",
    "\n",
    "    # generate legend\n",
    "    legend = []\n",
    "    thresholds = []\n",
    "    for run in sorted(sensitivity_study_performance.keys()):\n",
    "        legend.append(sensitivity_study_performance[run][\"hydra_config\"][\"cv_tracker\"][\"name\"])\n",
    "        thresholds.append(sensitivity_study_performance[run][\"hydra_config\"][\"cv_tracker\"][\"threshold\"])\n",
    "\n",
    "    x = dict_to_np_array(sensitivity_study_performance, key_x)\n",
    "    y = dict_to_np_array(sensitivity_study_performance, key_y)\n",
    "\n",
    "    # get a set of unique values\n",
    "    legend_set = list(set(legend))\n",
    "\n",
    "    # Local Diagram\n",
    "    fig, ax = plt.subplots()\n",
    "    # set x limit to 0 to 60\n",
    "    if preset == \"jetson\":\n",
    "        ax.set_xlim(-2, 58)\n",
    "    elif preset == \"pi\":\n",
    "        ax.set_xlim(-2, 28) # CHANGE THIS!!!!\n",
    "    \n",
    "    fig.set_size_inches(3.4,3.4) # 3.4 inch is the width of a column in a two column paper\n",
    "    for tracker in legend_set:\n",
    "        x_tmp = []\n",
    "        y_tmp = []\n",
    "        threshold_temp = []\n",
    "        for i, txt in enumerate(legend):\n",
    "            if txt == tracker:\n",
    "                x_tmp.append(x[i])\n",
    "                y_tmp.append(y[i])\n",
    "                threshold_temp.append(thresholds[i])\n",
    "                \n",
    "                \n",
    "    \n",
    "        #plt.scatter(x_tmp, y_tmp, label=tracker, marker=\"x\")\n",
    "        \n",
    "        # plot again as a curve\n",
    "        ax.plot(x_tmp, y_tmp, label=tracker, zorder=0, color=colors[legend_set.index(tracker)])\n",
    "        \n",
    "        # add the start marker to the first point \n",
    "        zorder = 10\n",
    "        ax.scatter(x_tmp[0], y_tmp[0], marker=start_marker, color=colors_marker[legend_set.index(tracker)], zorder=zorder)\n",
    "        # add the end marker to the last point\n",
    "        ax.scatter(x_tmp[-1], y_tmp[-1], marker=end_marker, color=colors_marker[legend_set.index(tracker)], zorder=zorder) \n",
    "                \n",
    "        \n",
    "        # annotate the first and the last point\n",
    "        if not tex_mode:\n",
    "            arrowprops=dict(facecolor='black', arrowstyle='-')\n",
    "            if len(x_tmp) > 1:\n",
    "                ax.annotate(r\"$t_c=0.3$\", (x_tmp[0], y_tmp[0]), textcoords='offset pixels',\n",
    "                    ha='left',va='bottom', xytext=(-1,10), fontsize=10, zorder=12)#, arrowprops=arrowprops)\n",
    "                ax.annotate(\"$t_c=0.95$\", (x_tmp[-1], y_tmp[-1]), textcoords='offset pixels',\n",
    "                    ha='left',va='bottom', xytext=(-1,10), fontsize=10, zorder=12)#, arrowprops=arrowprops)\n",
    "            else:\n",
    "                pass     \n",
    "            \n",
    "    key_to_label = {\"iou\": \"mIoU\", \"fps\": \"FPS\", \"motp\": \"MOTP\"}\n",
    "    ax.set_xlabel(key_to_label[key_x])\n",
    "    ax.set_ylabel(key_to_label[key_y])\n",
    "    if not tex_mode:\n",
    "        ax.legend()\n",
    "        \n",
    "\n",
    "    ax.grid(True)\n",
    "    # add grid lines and increase the precision on the x axis\n",
    "    ax.xaxis.set_major_locator(matplotlib.ticker.MultipleLocator(5))\n",
    "    ax.yaxis.set_major_locator(matplotlib.ticker.MultipleLocator(0.1))\n",
    "    ax.grid(which='major', color='#CCCCCC', linestyle='--')\n",
    "    ax.minorticks_on()\n",
    "    ax.grid(which='minor', color='#CCCCCC', linestyle=':', linewidth=0.5)\n",
    "    ax.set_axisbelow(True)\n",
    "    \n",
    "    # increase precision between 0 and 5 on the x axis\n",
    "    ax.xaxis.set_minor_locator(matplotlib.ticker.MultipleLocator(1))\n",
    "    ax.yaxis.set_minor_locator(matplotlib.ticker.MultipleLocator(0.02))\n",
    "    ax.grid(which='minor', color='#CCCCCC', linestyle=':', linewidth=0.5)\n",
    "    ax.set_axisbelow(True)\n",
    "    \n",
    "    \n",
    "    fig.show()\n",
    "\n",
    "    if add_to_global:\n",
    "        # Global Diagram\n",
    "        ax_glob.scatter(x, y)\n",
    "        for i, txt in enumerate(legend):\n",
    "            ax_glob.annotate(txt, (x[i], y[i]), textcoords='offset pixels',\n",
    "            ha='left',va='bottom')"
   ]
  },
  {
   "cell_type": "code",
   "execution_count": 90,
   "metadata": {},
   "outputs": [],
   "source": [
    "import matplotlib.pyplot as plt\n",
    "import numpy as np\n",
    "import matplotlib\n",
    "\n",
    "def make_plot(sensitivity_study_performance, key_x, key_y, ax_glob, add_to_global: bool = False, tex_mode = False, preset=\"jetson\"):\n",
    "    # scatter plot \n",
    "    def dict_to_np_array(dict_in, key):\n",
    "        \"\"\"\n",
    "        Converts a dictionary with arrays to a numpy array.\n",
    "        \"\"\"\n",
    "        x = []\n",
    "        for run in sorted(dict_in.keys()):\n",
    "            x.append(dict_in[run][key])\n",
    "        return np.array(x)\n",
    "    \n",
    "    # Colors for the different trackers\n",
    "    colors = [\"limegreen\", \"cornflowerblue\", \"chocolate\"]\n",
    "    colors_marker = [\"tab:green\", \"tab:blue\", \"tab:orange\"]\n",
    "    \n",
    "    # Marker types\n",
    "    start_marker = \".\"\n",
    "    end_marker = \"x\"\n",
    "    \n",
    "    # Generate legend and thresholds\n",
    "    legend = []\n",
    "    thresholds = []\n",
    "    for run in sorted(sensitivity_study_performance.keys()):\n",
    "        legend.append(sensitivity_study_performance[run][\"hydra_config\"][\"cv_tracker\"][\"name\"])\n",
    "        thresholds.append(sensitivity_study_performance[run][\"hydra_config\"][\"cv_tracker\"][\"threshold\"])\n",
    "\n",
    "    # Convert to numpy arrays\n",
    "    x = dict_to_np_array(sensitivity_study_performance, key_x)\n",
    "    y = dict_to_np_array(sensitivity_study_performance, key_y)\n",
    "\n",
    "    # Unique legend values\n",
    "    legend_set = list(set(legend))\n",
    "\n",
    "    # Create figure and axis\n",
    "    fig, ax = plt.subplots()\n",
    "    \n",
    "    # Set x-axis limits\n",
    "    if preset == \"jetson\":\n",
    "        ax.set_xlim(-2, 58)\n",
    "    elif preset == \"pi\":\n",
    "        ax.set_xlim(-2, 28)\n",
    "    \n",
    "    # Set figure size\n",
    "    fig.set_size_inches(3.4, 3.4)\n",
    "    \n",
    "    # Plot data for each tracker\n",
    "    for tracker in legend_set:\n",
    "        x_tmp = []\n",
    "        y_tmp = []\n",
    "        threshold_temp = []\n",
    "        for i, txt in enumerate(legend):\n",
    "            if txt == tracker:\n",
    "                x_tmp.append(x[i])\n",
    "                y_tmp.append(y[i])\n",
    "                threshold_temp.append(thresholds[i])\n",
    "                \n",
    "        # Plot curve\n",
    "        ax.plot(x_tmp, y_tmp, label=tracker, zorder=0, color=colors[legend_set.index(tracker)])\n",
    "        \n",
    "        # Add start and end markers\n",
    "        zorder = 10\n",
    "        ax.scatter(x_tmp[0], y_tmp[0], marker=start_marker, color=colors_marker[legend_set.index(tracker)], zorder=zorder)\n",
    "        ax.scatter(x_tmp[-1], y_tmp[-1], marker=end_marker, color=colors_marker[legend_set.index(tracker)], zorder=zorder)\n",
    "        \n",
    "        # Annotate the first and last points\n",
    "        if not tex_mode:\n",
    "            if len(x_tmp) > 1:\n",
    "                ax.annotate(r\"$t_c=0.3$\", (x_tmp[0], y_tmp[0]), textcoords='offset pixels',\n",
    "                            ha='left', va='bottom', xytext=(-1, -18), fontsize=10, zorder=12)#, color=colors_marker[legend_set.index(tracker)])\n",
    "                ax.annotate(\"$t_c=0.95$\", (x_tmp[-1], y_tmp[-1]), textcoords='offset pixels',\n",
    "                            ha='left', va='bottom', xytext=(-1, -18), fontsize=10, zorder=12)#, color=colors_marker[legend_set.index(tracker)])\n",
    "    \n",
    "    # Set axis labels\n",
    "    key_to_label = {\"iou\": \"mIoU\", \"fps\": \"FPS\", \"motp\": \"MOTP\"}\n",
    "    ax.set_xlabel(key_to_label[key_x])\n",
    "    ax.set_ylabel(key_to_label[key_y])\n",
    "    \n",
    "    # Add legend\n",
    "    if not tex_mode:\n",
    "        ax.legend()\n",
    "    \n",
    "    # Enable grid\n",
    "    ax.grid(True)\n",
    "    \n",
    "    # Set x-axis major and minor ticks\n",
    "    ax.xaxis.set_major_locator(matplotlib.ticker.MultipleLocator(10))\n",
    "    ax.xaxis.set_minor_locator(matplotlib.ticker.MultipleLocator(5))\n",
    "    \n",
    "    # Set y-axis major and minor ticks\n",
    "    ax.yaxis.set_major_locator(matplotlib.ticker.MultipleLocator(0.01))\n",
    "    ax.yaxis.set_minor_locator(matplotlib.ticker.MultipleLocator(0.002))\n",
    "    \n",
    "    # the numbers on the y axis are missing\n",
    "    ax.set_axis_on()\n",
    "    \n",
    "    \n",
    "    # Grid customization\n",
    "    ax.grid(which='major', color='#CCCCCC', linestyle='--')\n",
    "    ax.minorticks_on()\n",
    "    ax.grid(which='minor', color='#CCCCCC', linestyle=':', linewidth=0.5)\n",
    "    \n",
    "    # Set grid lines behind the plot\n",
    "    ax.set_axisbelow(True)\n",
    "    \n"
   ]
  },
  {
   "cell_type": "code",
   "execution_count": 91,
   "metadata": {},
   "outputs": [],
   "source": [
    "threshold_trackers = [\"nano\", \"vit\", \"daSiamRpn\"]\n",
    "\n",
    "# keep only the runs with the threshold trackers\n",
    "sensitivity_study_performance_threshold = sensitivity_study_performance.copy()\n",
    "delete_keys = []\n",
    "for key in sensitivity_study_performance_threshold.keys():\n",
    "    if sensitivity_study_performance_threshold[key][\"hydra_config\"][\"cv_tracker\"][\"name\"] not in threshold_trackers:\n",
    "        delete_keys.append(key)\n",
    "\n",
    "for key in delete_keys:\n",
    "    del sensitivity_study_performance_threshold[key]"
   ]
  },
  {
   "cell_type": "code",
   "execution_count": 92,
   "metadata": {},
   "outputs": [
    {
     "name": "stderr",
     "output_type": "stream",
     "text": [
      "/tmp/ipykernel_3624695/1088015975.py:15: MatplotlibDeprecationWarning: Auto-close()ing of figures upon backend switching is deprecated since 3.8 and will be removed in 3.10.  To suppress this warning, explicitly call plt.close('all') first.\n",
      "  matplotlib.use(\"module://ipykernel.pylab.backend_inline\")\n"
     ]
    },
    {
     "data": {
      "image/png": "[encoded data removed]",
      "text/plain": [
       "<Figure size 340x340 with 1 Axes>"
      ]
     },
     "metadata": {},
     "output_type": "display_data"
    }
   ],
   "source": [
    "import matplotlib.figure\n",
    "\n",
    "matplotlib.use(\"pgf\")\n",
    "matplotlib.rcParams.update({\n",
    "    \"pgf.texsystem\": \"pdflatex\",\n",
    "    'font.family': 'serif',\n",
    "    'text.usetex': True,\n",
    "    'pgf.rcfonts': False,\n",
    "})\n",
    "\n",
    "make_plot(sensitivity_study_performance_threshold, key_x=\"fps\", key_y=\"iou\", ax_glob=ax_glob, add_to_global=True, tex_mode=False, preset=mode)\n",
    "plt.savefig(f\"{mode}.pgf\",bbox_inches='tight')\n",
    "\n",
    "# swith back to the default backend\n",
    "matplotlib.use(\"module://ipykernel.pylab.backend_inline\")\n",
    "make_plot(sensitivity_study_performance_threshold, key_x=\"fps\", key_y=\"iou\", ax_glob=ax_glob, add_to_global=True, tex_mode=False, preset=mode)\n",
    "\n",
    "# save as pdf\n",
    "plt.tight_layout()\n",
    "plt.savefig(f\"{mode}.pdf\")\n",
    "\n",
    "\n"
   ]
  },
  {
   "cell_type": "code",
   "execution_count": 93,
   "metadata": {},
   "outputs": [
    {
     "name": "stdout",
     "output_type": "stream",
     "text": [
      " Threshold: ['nano', 'vit', 'daSiamRpn']\n",
      " Non-Threshold: ['csrt', 'goturn', 'mil']\n"
     ]
    }
   ],
   "source": [
    "non_threshold_trackers = [\"csrt\", \"goturn\", \"mil\"]\n",
    "print(f\" Threshold: {threshold_trackers}\")\n",
    "print(f\" Non-Threshold: {non_threshold_trackers}\")"
   ]
  },
  {
   "cell_type": "code",
   "execution_count": 94,
   "metadata": {},
   "outputs": [
    {
     "name": "stdout",
     "output_type": "stream",
     "text": [
      "Tracker: csrt, Run: 39, IoU: 0.22910961281604655\n",
      "Tracker: goturn, Run: 78, IoU: 0.09130103571612827\n",
      "Tracker: mil, Run: 40, IoU: 0.15309367021587272\n"
     ]
    }
   ],
   "source": [
    "precision = 3 # digits after the comma\n",
    "\n",
    "# for threshold enabled trackers: get the run with the highest IoU. \n",
    "# get all runs with non threshold trackers\n",
    "# get the run with the highest IoU\n",
    "# get the run with the highest FPS\n",
    "# get the run with the highest MOTP\n",
    "\n",
    "# get the run with the highest IoU\n",
    "all_names = set([sensitivity_study_performance[run][\"hydra_config\"][\"cv_tracker\"][\"name\"] for run in sensitivity_study_performance.keys()])\n",
    "max_iou_runs = {}\n",
    "for tracker in threshold_trackers:\n",
    "    max_iou = 0\n",
    "    result_dict = {}\n",
    "    for run in sensitivity_study_performance.keys():\n",
    "        accept_run=False\n",
    "        if sensitivity_study_performance[run][\"hydra_config\"][\"cv_tracker\"][\"name\"] == tracker:\n",
    "            if sensitivity_study_performance[run][\"iou\"] > max_iou:\n",
    "                accept_run = True\n",
    "                max_iou = sensitivity_study_performance[run][\"iou\"]\n",
    "        \n",
    "        #if sensitivity_study_performance[run][\"hydra_config\"][\"cv_tracker\"][\"name\"] not in threshold_trackers:\n",
    "        #    accept_run = True\n",
    "        #    tracker = sensitivity_study_performance[run][\"hydra_config\"][\"cv_tracker\"][\"name\"]\n",
    "            \n",
    "        if accept_run:\n",
    "            max_iou = sensitivity_study_performance[run][\"iou\"]\n",
    "            result_dict[\"run\"] = run\n",
    "            result_dict[\"iou\"] = max_iou\n",
    "            result_dict[\"fps\"] = sensitivity_study_performance[run][\"fps\"]\n",
    "            result_dict[\"free_fps\"] = sensitivity_study_performance[run][\"free_fps\"]\n",
    "            result_dict[\"threshold\"] = sensitivity_study_performance[run][\"hydra_config\"][\"cv_tracker\"][\"threshold\"]\n",
    "            max_iou_runs[tracker] = result_dict\n",
    "            \n",
    "\n",
    "for tracker in non_threshold_trackers:\n",
    "    for run in sensitivity_study_performance.keys():\n",
    "        result_dict = {}\n",
    "        if sensitivity_study_performance[run][\"hydra_config\"][\"cv_tracker\"][\"name\"] == tracker:\n",
    "            print(f\"Tracker: {tracker}, Run: {run}, IoU: {sensitivity_study_performance[run]['iou']}\")\n",
    "            max_iou = sensitivity_study_performance[run][\"iou\"]\n",
    "            result_dict[\"run\"] = run\n",
    "            result_dict[\"iou\"] = max_iou\n",
    "            result_dict[\"fps\"] = sensitivity_study_performance[run][\"fps\"]\n",
    "            result_dict[\"free_fps\"] = sensitivity_study_performance[run][\"free_fps\"]\n",
    "            result_dict[\"threshold\"] = sensitivity_study_performance[run][\"hydra_config\"][\"cv_tracker\"][\"threshold\"]\n",
    "            max_iou_runs[tracker] = result_dict\n",
    "            break\n",
    "\n",
    "# apply the precision\n",
    "for tracker in max_iou_runs.keys():\n",
    "    for key in max_iou_runs[tracker].keys():\n",
    "        if key != \"run\":\n",
    "            try: \n",
    "                max_iou_runs[tracker][key] = round(max_iou_runs[tracker][key], precision)\n",
    "            except:\n",
    "                max_iou_runs[tracker][key] = \"---\"\n",
    "        \n"
   ]
  },
  {
   "cell_type": "code",
   "execution_count": 95,
   "metadata": {},
   "outputs": [
    {
     "data": {
      "text/html": [
       "<div>\n",
       "<style scoped>\n",
       "    .dataframe tbody tr th:only-of-type {\n",
       "        vertical-align: middle;\n",
       "    }\n",
       "\n",
       "    .dataframe tbody tr th {\n",
       "        vertical-align: top;\n",
       "    }\n",
       "\n",
       "    .dataframe thead th {\n",
       "        text-align: right;\n",
       "    }\n",
       "</style>\n",
       "<table border=\"1\" class=\"dataframe\">\n",
       "  <thead>\n",
       "    <tr style=\"text-align: right;\">\n",
       "      <th></th>\n",
       "      <th>$t_c$</th>\n",
       "      <th>IoU</th>\n",
       "      <th>FPS</th>\n",
       "      <th>$\\text{FPS}_\\text{Edge}$</th>\n",
       "    </tr>\n",
       "  </thead>\n",
       "  <tbody>\n",
       "    <tr>\n",
       "      <th>nano</th>\n",
       "      <td>0.7</td>\n",
       "      <td>0.378</td>\n",
       "      <td>18.101</td>\n",
       "      <td>29.487</td>\n",
       "    </tr>\n",
       "    <tr>\n",
       "      <th>vit</th>\n",
       "      <td>0.4</td>\n",
       "      <td>0.376</td>\n",
       "      <td>9.034</td>\n",
       "      <td>20.442</td>\n",
       "    </tr>\n",
       "    <tr>\n",
       "      <th>daSiamRpn</th>\n",
       "      <td>0.9</td>\n",
       "      <td>0.34</td>\n",
       "      <td>1.434</td>\n",
       "      <td>2.122</td>\n",
       "    </tr>\n",
       "    <tr>\n",
       "      <th>csrt</th>\n",
       "      <td>---</td>\n",
       "      <td>0.229</td>\n",
       "      <td>7.276</td>\n",
       "      <td>9.704</td>\n",
       "    </tr>\n",
       "    <tr>\n",
       "      <th>mil</th>\n",
       "      <td>---</td>\n",
       "      <td>0.153</td>\n",
       "      <td>6.034</td>\n",
       "      <td>7.202</td>\n",
       "    </tr>\n",
       "    <tr>\n",
       "      <th>goturn</th>\n",
       "      <td>---</td>\n",
       "      <td>0.091</td>\n",
       "      <td>2.722</td>\n",
       "      <td>3.006</td>\n",
       "    </tr>\n",
       "  </tbody>\n",
       "</table>\n",
       "</div>"
      ],
      "text/plain": [
       "          $t_c$    IoU     FPS $\\text{FPS}_\\text{Edge}$\n",
       "nano        0.7  0.378  18.101                   29.487\n",
       "vit         0.4  0.376   9.034                   20.442\n",
       "daSiamRpn   0.9   0.34   1.434                    2.122\n",
       "csrt        ---  0.229   7.276                    9.704\n",
       "mil         ---  0.153   6.034                    7.202\n",
       "goturn      ---  0.091   2.722                    3.006"
      ]
     },
     "execution_count": 95,
     "metadata": {},
     "output_type": "execute_result"
    }
   ],
   "source": [
    "# make a table with the results\n",
    "import pandas as pd\n",
    "\n",
    "table = pd.DataFrame(max_iou_runs)\n",
    "table = table.T\n",
    "table = table.drop(columns=[\"run\"])\n",
    "# put the threshold in the first column\n",
    "table = table[[\"threshold\", \"iou\", \"fps\", \"free_fps\"]]\n",
    "table = table.rename(columns={\"threshold\":r\"$t_c$\", \"iou\": \"IoU\", \"fps\": \"FPS\", \"free_fps\": r\"$\\text{FPS}_\\text{Edge}$\"})\n",
    "table  = table.sort_values(by=\"IoU\", ascending=False)\n",
    "# set precision to 3 digits\n",
    "table = table.round(2)\n",
    "# convert to str \n",
    "table = table.astype(str)\n",
    "table.to_latex(\"frontend.tex\")\n",
    "table\n"
   ]
  },
  {
   "cell_type": "code",
   "execution_count": 96,
   "metadata": {},
   "outputs": [
    {
     "data": {
      "text/plain": [
       "12265"
      ]
     },
     "execution_count": 96,
     "metadata": {},
     "output_type": "execute_result"
    }
   ],
   "source": [
    "multirun_data[\"0\"][\"frames\"]"
   ]
  },
  {
   "cell_type": "code",
   "execution_count": 97,
   "metadata": {},
   "outputs": [
    {
     "ename": "NotImplementedError",
     "evalue": "Stop here",
     "output_type": "error",
     "traceback": [
      "\u001b[0;31m---------------------------------------------------------------------------\u001b[0m",
      "\u001b[0;31mNotImplementedError\u001b[0m                       Traceback (most recent call last)",
      "Cell \u001b[0;32mIn[97], line 1\u001b[0m\n\u001b[0;32m----> 1\u001b[0m \u001b[38;5;28;01mraise\u001b[39;00m \u001b[38;5;167;01mNotImplementedError\u001b[39;00m(\u001b[38;5;124m\"\u001b[39m\u001b[38;5;124mStop here\u001b[39m\u001b[38;5;124m\"\u001b[39m)\n",
      "\u001b[0;31mNotImplementedError\u001b[0m: Stop here"
     ]
    }
   ],
   "source": [
    "raise NotImplementedError(\"Stop here\")"
   ]
  },
  {
   "cell_type": "markdown",
   "metadata": {},
   "source": [
    "### Re-init sensitivity study"
   ]
  },
  {
   "cell_type": "markdown",
   "metadata": {},
   "source": [
    "#### Load Data & Calculate Metrics"
   ]
  },
  {
   "cell_type": "code",
   "execution_count": 12,
   "metadata": {},
   "outputs": [
    {
     "name": "stdout",
     "output_type": "stream",
     "text": [
      "WARNING: TAKE CARE OF NOT DETECTED OBJECTS\n"
     ]
    }
   ],
   "source": [
    "multirun_data, mot_metrics_summary = multirun_pipeline(re_init_sensitivity_study)"
   ]
  },
  {
   "cell_type": "code",
   "execution_count": 13,
   "metadata": {},
   "outputs": [
    {
     "data": {
      "text/html": [
       "<div>\n",
       "<style scoped>\n",
       "    .dataframe tbody tr th:only-of-type {\n",
       "        vertical-align: middle;\n",
       "    }\n",
       "\n",
       "    .dataframe tbody tr th {\n",
       "        vertical-align: top;\n",
       "    }\n",
       "\n",
       "    .dataframe thead th {\n",
       "        text-align: right;\n",
       "    }\n",
       "</style>\n",
       "<table border=\"1\" class=\"dataframe\">\n",
       "  <thead>\n",
       "    <tr style=\"text-align: right;\">\n",
       "      <th></th>\n",
       "      <th>motp</th>\n",
       "      <th>num_frames</th>\n",
       "      <th>mota</th>\n",
       "    </tr>\n",
       "  </thead>\n",
       "  <tbody>\n",
       "    <tr>\n",
       "      <th>9</th>\n",
       "      <td>79.409435</td>\n",
       "      <td>12604</td>\n",
       "      <td>0.999048</td>\n",
       "    </tr>\n",
       "    <tr>\n",
       "      <th>10</th>\n",
       "      <td>78.607844</td>\n",
       "      <td>12604</td>\n",
       "      <td>0.998731</td>\n",
       "    </tr>\n",
       "    <tr>\n",
       "      <th>1</th>\n",
       "      <td>81.776130</td>\n",
       "      <td>12604</td>\n",
       "      <td>0.995398</td>\n",
       "    </tr>\n",
       "    <tr>\n",
       "      <th>5</th>\n",
       "      <td>79.947525</td>\n",
       "      <td>12604</td>\n",
       "      <td>0.997540</td>\n",
       "    </tr>\n",
       "    <tr>\n",
       "      <th>0</th>\n",
       "      <td>81.186096</td>\n",
       "      <td>12604</td>\n",
       "      <td>0.994288</td>\n",
       "    </tr>\n",
       "    <tr>\n",
       "      <th>6</th>\n",
       "      <td>76.731263</td>\n",
       "      <td>12604</td>\n",
       "      <td>0.997620</td>\n",
       "    </tr>\n",
       "    <tr>\n",
       "      <th>7</th>\n",
       "      <td>85.974207</td>\n",
       "      <td>12604</td>\n",
       "      <td>0.998017</td>\n",
       "    </tr>\n",
       "    <tr>\n",
       "      <th>3</th>\n",
       "      <td>80.575302</td>\n",
       "      <td>12604</td>\n",
       "      <td>0.996985</td>\n",
       "    </tr>\n",
       "    <tr>\n",
       "      <th>8</th>\n",
       "      <td>78.712035</td>\n",
       "      <td>12604</td>\n",
       "      <td>0.999207</td>\n",
       "    </tr>\n",
       "    <tr>\n",
       "      <th>4</th>\n",
       "      <td>79.225236</td>\n",
       "      <td>12604</td>\n",
       "      <td>0.998413</td>\n",
       "    </tr>\n",
       "    <tr>\n",
       "      <th>2</th>\n",
       "      <td>79.826695</td>\n",
       "      <td>12604</td>\n",
       "      <td>0.996271</td>\n",
       "    </tr>\n",
       "  </tbody>\n",
       "</table>\n",
       "</div>"
      ],
      "text/plain": [
       "         motp  num_frames      mota\n",
       "9   79.409435       12604  0.999048\n",
       "10  78.607844       12604  0.998731\n",
       "1   81.776130       12604  0.995398\n",
       "5   79.947525       12604  0.997540\n",
       "0   81.186096       12604  0.994288\n",
       "6   76.731263       12604  0.997620\n",
       "7   85.974207       12604  0.998017\n",
       "3   80.575302       12604  0.996985\n",
       "8   78.712035       12604  0.999207\n",
       "4   79.225236       12604  0.998413\n",
       "2   79.826695       12604  0.996271"
      ]
     },
     "execution_count": 13,
     "metadata": {},
     "output_type": "execute_result"
    }
   ],
   "source": [
    "mot_metrics_summary"
   ]
  },
  {
   "cell_type": "markdown",
   "metadata": {},
   "source": [
    "#### Generate the data"
   ]
  },
  {
   "cell_type": "code",
   "execution_count": 14,
   "metadata": {
    "tags": []
   },
   "outputs": [],
   "source": [
    "relevant_keys = [\"iou\", \"fps\", \"motp\"]\n",
    "sensitivity_study_performance = gather_data_from_runs(multirun_data, relevant_keys)\n",
    "\n"
   ]
  },
  {
   "cell_type": "markdown",
   "metadata": {},
   "source": [
    "#### Plot the data"
   ]
  },
  {
   "cell_type": "code",
   "execution_count": 15,
   "metadata": {},
   "outputs": [
    {
     "ename": "TypeError",
     "evalue": "make_plot() missing 1 required positional argument: 'ax_glob'",
     "output_type": "error",
     "traceback": [
      "\u001b[0;31m---------------------------------------------------------------------------\u001b[0m",
      "\u001b[0;31mTypeError\u001b[0m                                 Traceback (most recent call last)",
      "Cell \u001b[0;32mIn[15], line 1\u001b[0m\n\u001b[0;32m----> 1\u001b[0m \u001b[43mmake_plot\u001b[49m\u001b[43m(\u001b[49m\u001b[43msensitivity_study_performance\u001b[49m\u001b[43m,\u001b[49m\u001b[43m \u001b[49m\u001b[43mkey_x\u001b[49m\u001b[38;5;241;43m=\u001b[39;49m\u001b[38;5;124;43m\"\u001b[39;49m\u001b[38;5;124;43mfps\u001b[39;49m\u001b[38;5;124;43m\"\u001b[39;49m\u001b[43m,\u001b[49m\u001b[43m \u001b[49m\u001b[43mkey_y\u001b[49m\u001b[38;5;241;43m=\u001b[39;49m\u001b[38;5;124;43m\"\u001b[39;49m\u001b[38;5;124;43miou\u001b[39;49m\u001b[38;5;124;43m\"\u001b[39;49m\u001b[43m,\u001b[49m\u001b[43m \u001b[49m\u001b[43madd_to_global\u001b[49m\u001b[38;5;241;43m=\u001b[39;49m\u001b[38;5;28;43;01mTrue\u001b[39;49;00m\u001b[43m)\u001b[49m\n\u001b[1;32m      2\u001b[0m make_plot(sensitivity_study_performance, key_x\u001b[38;5;241m=\u001b[39m\u001b[38;5;124m\"\u001b[39m\u001b[38;5;124mfps\u001b[39m\u001b[38;5;124m\"\u001b[39m, key_y\u001b[38;5;241m=\u001b[39m\u001b[38;5;124m\"\u001b[39m\u001b[38;5;124mmotp\u001b[39m\u001b[38;5;124m\"\u001b[39m)\n",
      "\u001b[0;31mTypeError\u001b[0m: make_plot() missing 1 required positional argument: 'ax_glob'"
     ]
    }
   ],
   "source": [
    "make_plot(sensitivity_study_performance, key_x=\"fps\", key_y=\"iou\", add_to_global=True)\n",
    "make_plot(sensitivity_study_performance, key_x=\"fps\", key_y=\"motp\")"
   ]
  },
  {
   "cell_type": "markdown",
   "metadata": {},
   "source": [
    "# Naive Baseline"
   ]
  },
  {
   "cell_type": "code",
   "execution_count": null,
   "metadata": {},
   "outputs": [],
   "source": [
    "single_run_data = load_run(naive_baseline)"
   ]
  },
  {
   "cell_type": "code",
   "execution_count": null,
   "metadata": {},
   "outputs": [
    {
     "ename": "NameError",
     "evalue": "name 'average_iou' is not defined",
     "output_type": "error",
     "traceback": [
      "\u001b[0;31m---------------------------------------------------------------------------\u001b[0m",
      "\u001b[0;31mNameError\u001b[0m                                 Traceback (most recent call last)",
      "Cell \u001b[0;32mIn[12], line 6\u001b[0m\n\u001b[1;32m      3\u001b[0m \u001b[38;5;66;03m# Apply the aggregation functions\u001b[39;00m\n\u001b[1;32m      4\u001b[0m \u001b[38;5;66;03m# IoU\u001b[39;00m\n\u001b[1;32m      5\u001b[0m single_run_data \u001b[38;5;241m=\u001b[39m apply_to_level_run(single_run_data, func\u001b[38;5;241m=\u001b[39mframe_iou, level\u001b[38;5;241m=\u001b[39m\u001b[38;5;124m\"\u001b[39m\u001b[38;5;124mframe\u001b[39m\u001b[38;5;124m\"\u001b[39m, key_name\u001b[38;5;241m=\u001b[39m\u001b[38;5;124m\"\u001b[39m\u001b[38;5;124miou\u001b[39m\u001b[38;5;124m\"\u001b[39m) \u001b[38;5;66;03m# calculate iou for every frame\u001b[39;00m\n\u001b[0;32m----> 6\u001b[0m single_run_data \u001b[38;5;241m=\u001b[39m apply_to_level_run(single_run_data, func\u001b[38;5;241m=\u001b[39m\u001b[43maverage_iou\u001b[49m, level\u001b[38;5;241m=\u001b[39m\u001b[38;5;124m\"\u001b[39m\u001b[38;5;124msequence\u001b[39m\u001b[38;5;124m\"\u001b[39m, key_name\u001b[38;5;241m=\u001b[39m\u001b[38;5;124m\"\u001b[39m\u001b[38;5;124miou\u001b[39m\u001b[38;5;124m\"\u001b[39m) \u001b[38;5;66;03m# calculate mean iou for every sequence\u001b[39;00m\n\u001b[1;32m      7\u001b[0m single_run_data \u001b[38;5;241m=\u001b[39m apply_to_level_run(single_run_data, func\u001b[38;5;241m=\u001b[39maverage_iou, level\u001b[38;5;241m=\u001b[39m\u001b[38;5;124m\"\u001b[39m\u001b[38;5;124mrun\u001b[39m\u001b[38;5;124m\"\u001b[39m, key_name\u001b[38;5;241m=\u001b[39m\u001b[38;5;124m\"\u001b[39m\u001b[38;5;124miou\u001b[39m\u001b[38;5;124m\"\u001b[39m) \u001b[38;5;66;03m# calculate mean iou for every run\u001b[39;00m\n\u001b[1;32m     10\u001b[0m \u001b[38;5;66;03m# FPS\u001b[39;00m\n",
      "\u001b[0;31mNameError\u001b[0m: name 'average_iou' is not defined"
     ]
    }
   ],
   "source": [
    "single_run_data[\"raw_data\"].keys()\n",
    "\n",
    "# Apply the aggregation functions\n",
    "# IoU\n",
    "single_run_data = apply_to_level_run(single_run_data, func=frame_iou, level=\"frame\", key_name=\"iou\") # calculate iou for every frame\n",
    "single_run_data = apply_to_level_run(single_run_data, func=average_iou, level=\"sequence\", key_name=\"iou\") # calculate mean iou for every sequence\n",
    "single_run_data = apply_to_level_run(single_run_data, func=average_iou, level=\"run\", key_name=\"iou\") # calculate mean iou for every run\n",
    "\n",
    "\n",
    "# FPS\n",
    "single_run_data = apply_to_run(single_run_data, mean_fps, \"fps\") # calculate fps for every sequence\n",
    "single_run_data = apply_to_level_run(single_run_data, func=average_fps, level=\"run\", key_name=\"fps\") # calculate mean fps for every run\n",
    "\n",
    "\n"
   ]
  },
  {
   "cell_type": "code",
   "execution_count": null,
   "metadata": {},
   "outputs": [
    {
     "name": "stdout",
     "output_type": "stream",
     "text": [
      "iou: 0.4884428288971474\n",
      "fps: 3.490290030064569\n"
     ]
    },
    {
     "name": "stderr",
     "output_type": "stream",
     "text": [
      "/tmp/ipykernel_134115/2319078902.py:9: UserWarning: You have used the `textcoords` kwarg, but not the `xytext` kwarg.  This can lead to surprising results.\n",
      "  ax_glob.annotate(\"Naive Baseline\", (x, y), textcoords='offset pixels')\n"
     ]
    },
    {
     "data": {
      "text/plain": [
       "Text(3.490290030064569, 0.4884428288971474, 'Naive Baseline')"
      ]
     },
     "execution_count": 45,
     "metadata": {},
     "output_type": "execute_result"
    }
   ],
   "source": [
    "print(f\"iou: {single_run_data['iou']}\")\n",
    "print(f\"fps: {single_run_data['fps']}\")\n",
    "\n",
    "# plot \n",
    "x = single_run_data[\"fps\"]\n",
    "y = single_run_data[\"iou\"]\n",
    "\n",
    "ax_glob.scatter(x, y)\n",
    "ax_glob.annotate(\"Naive Baseline\", (x, y), textcoords='offset pixels')\n"
   ]
  },
  {
   "cell_type": "markdown",
   "metadata": {},
   "source": [
    "# Deva"
   ]
  },
  {
   "cell_type": "code",
   "execution_count": null,
   "metadata": {},
   "outputs": [],
   "source": [
    "single_run_data = load_run(deva_baseline)"
   ]
  },
  {
   "cell_type": "code",
   "execution_count": null,
   "metadata": {},
   "outputs": [],
   "source": [
    "single_run_data[\"raw_data\"].keys()\n",
    "\n",
    "# Apply the aggregation functions\n",
    "# IoU\n",
    "single_run_data = apply_to_level_run(single_run_data, func=frame_iou, level=\"frame\", key_name=\"iou\") # calculate iou for every frame\n",
    "single_run_data = apply_to_level_run(single_run_data, func=average_iou, level=\"sequence\", key_name=\"iou\") # calculate mean iou for every sequence\n",
    "single_run_data = apply_to_level_run(single_run_data, func=average_iou, level=\"run\", key_name=\"iou\") # calculate mean iou for every run\n",
    "\n",
    "\n",
    "# FPS\n",
    "single_run_data = apply_to_run(single_run_data, mean_fps, \"fps\") # calculate fps for every sequence\n",
    "single_run_data = apply_to_level_run(single_run_data, func=average_fps, level=\"run\", key_name=\"fps\") # calculate mean fps for every run"
   ]
  },
  {
   "cell_type": "code",
   "execution_count": null,
   "metadata": {},
   "outputs": [
    {
     "name": "stdout",
     "output_type": "stream",
     "text": [
      "iou: 0.5378233644775245\n",
      "fps: 1.9288729549409567\n"
     ]
    },
    {
     "name": "stderr",
     "output_type": "stream",
     "text": [
      "/tmp/ipykernel_134115/2896605039.py:9: UserWarning: You have used the `textcoords` kwarg, but not the `xytext` kwarg.  This can lead to surprising results.\n",
      "  ax_glob.annotate(\"DEVA\", (x, y), textcoords='offset pixels')\n"
     ]
    },
    {
     "data": {
      "text/plain": [
       "Text(1.9288729549409567, 0.5378233644775245, 'DEVA')"
      ]
     },
     "execution_count": 48,
     "metadata": {},
     "output_type": "execute_result"
    }
   ],
   "source": [
    "print(f\"iou: {single_run_data['iou']}\")\n",
    "print(f\"fps: {single_run_data['fps']}\")\n",
    "\n",
    "# plot \n",
    "x = single_run_data[\"fps\"]\n",
    "y = single_run_data[\"iou\"]\n",
    "\n",
    "ax_glob.scatter(x, y)\n",
    "ax_glob.annotate(\"DEVA\", (x, y), textcoords='offset pixels')"
   ]
  },
  {
   "cell_type": "markdown",
   "metadata": {},
   "source": [
    "### Export Global Plot"
   ]
  },
  {
   "cell_type": "code",
   "execution_count": null,
   "metadata": {},
   "outputs": [
    {
     "data": {
      "image/png": "[encoded data removed]",
      "text/plain": [
       "<Figure size 640x480 with 1 Axes>"
      ]
     },
     "execution_count": 49,
     "metadata": {},
     "output_type": "execute_result"
    }
   ],
   "source": [
    "# make global plot\n",
    "ax_glob.set_xlabel(\"fps\")\n",
    "ax_glob.set_ylabel(\"iou\")\n",
    "ax_glob.set_title(\"Global comparison\")\n",
    "fig_glob"
   ]
  }
 ],
 "metadata": {
  "kernelspec": {
   "display_name": "python-3.10.12",
   "language": "python",
   "name": "python3"
  },
  "language_info": {
   "codemirror_mode": {
    "name": "ipython",
    "version": 3
   },
   "file_extension": ".py",
   "mimetype": "text/x-python",
   "name": "python",
   "nbconvert_exporter": "python",
   "pygments_lexer": "ipython3",
   "version": "3.10.12"
  }
 },
 "nbformat": 4,
 "nbformat_minor": 2
}
