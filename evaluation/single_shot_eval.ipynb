{
 "cells": [
  {
   "cell_type": "code",
   "execution_count": 2,
   "metadata": {},
   "outputs": [
    {
     "name": "stdout",
     "output_type": "stream",
     "text": [
      "PythonTexTools: tikzplotlib not working. You cannot export figures to tikz.\n"
     ]
    }
   ],
   "source": [
    "from pathlib import Path\n",
    "import motmetrics as mm\n",
    "import json\n",
    "from utils import mean_frame_iou, recall, precision\n",
    "from utils.single_shot_pipeline import InjuryEvaluator, ExperimentPipeline\n",
    "from utils.multirun_manager import MultirunManager\n",
    "import numpy as np\n",
    "import pythonTexTools as pytex\n",
    "\n",
    "%load_ext autoreload\n",
    "%autoreload 2"
   ]
  },
  {
   "cell_type": "markdown",
   "metadata": {},
   "source": [
    "## Evaluation of single shot frameworks"
   ]
  },
  {
   "cell_type": "code",
   "execution_count": 3,
   "metadata": {},
   "outputs": [],
   "source": [
    "# first run with chat gpt. Prompt was wrong. It only searches for people with a gray shirt.\n",
    "run_2024_07_29_13_17_24 = Path(\"/home/blei/cloud_track/evaluation/archive/outputs/2024-07-29/16-25-34/\") \n",
    "\n",
    "# run with chat gpt. Prompt corrected. It now searches for all injured people.\n",
    "run_2024_07_30_15_46_57 = Path(\"/home/blei/cloud_track/evaluation/archive/outputs/2024-07-30/15-46-57/\")\n",
    "\n",
    "# run with paligemma (cpu only). Model name in json is wrong (it is the same as the chat gpt model).\n",
    "run_2024_07_31_12_01_21 = Path(\"/home/blei/cloud_track/evaluation/archive/outputs/2024-07-31/12-01-21\")\n",
    "\n",
    "# run with paligemma. Model name in json is correct. # confidence threshold 0.25\n",
    "run_2024_07_31_15_14_19 = Path(\"/home/blei/cloud_track/evaluation/archive/outputs/2024-07-31/15-14-19\")\n",
    "\n",
    "# run with paligemma. Decreased box confidence threshold to 0.1\n",
    "run_2024_08_01_12_38_58 = Path(\"/home/blei/cloud_track/outputs/2024-08-01/12-59-28\")\n",
    "\n",
    "# select run for cathegory\n",
    "run_sard_singleshot_chatgpt = run_2024_07_30_15_46_57\n",
    "run_sard_singleshot_paligemma = run_2024_07_31_15_14_19\n",
    "\n",
    "# select cathegory to analyze\n",
    "run_sard_singleshot = run_sard_singleshot_chatgpt"
   ]
  },
  {
   "cell_type": "markdown",
   "metadata": {},
   "source": [
    "## Evaluate: sard single shot run"
   ]
  },
  {
   "cell_type": "markdown",
   "metadata": {},
   "source": [
    "#### Define GT Mapping"
   ]
  },
  {
   "cell_type": "code",
   "execution_count": 4,
   "metadata": {},
   "outputs": [],
   "source": [
    "injury_annotation_file = Path(\"/home/blei/referring_sard/assets/referring_SARD_labels.json\")"
   ]
  },
  {
   "cell_type": "markdown",
   "metadata": {},
   "source": [
    "#### Dataset Report"
   ]
  },
  {
   "cell_type": "code",
   "execution_count": 4,
   "metadata": {},
   "outputs": [],
   "source": [
    "#pipeline = ExperimentPipeline(run_sard_singleshot, injury_annotation_file)\n",
    "#pipeline.print_dataset_report()"
   ]
  },
  {
   "cell_type": "markdown",
   "metadata": {},
   "source": [
    "#### Run paligemma analysis"
   ]
  },
  {
   "cell_type": "code",
   "execution_count": 5,
   "metadata": {},
   "outputs": [],
   "source": [
    "#pipeline = ExperimentPipeline(run_sard_singleshot_paligemma, injury_annotation_file)\n",
    "#pipeline.print_full_report(iou_threshold=0.5)\n"
   ]
  },
  {
   "cell_type": "code",
   "execution_count": 6,
   "metadata": {},
   "outputs": [],
   "source": [
    "#fig = pipeline.make_precision_recall_plot()"
   ]
  },
  {
   "cell_type": "markdown",
   "metadata": {},
   "source": [
    "#### Run ChatGPT Analysis"
   ]
  },
  {
   "cell_type": "code",
   "execution_count": 7,
   "metadata": {},
   "outputs": [],
   "source": [
    "#pipeline = ExperimentPipeline(run_sard_singleshot_chatgpt, injury_annotation_file)\n",
    "#pipeline.print_full_report(iou_threshold=0.5)\n"
   ]
  },
  {
   "cell_type": "code",
   "execution_count": 8,
   "metadata": {},
   "outputs": [],
   "source": [
    "#fig = pipeline.make_precision_recall_plot()"
   ]
  },
  {
   "cell_type": "code",
   "execution_count": null,
   "metadata": {},
   "outputs": [],
   "source": []
  },
  {
   "cell_type": "markdown",
   "metadata": {},
   "source": [
    "#### Define Helper Functions:"
   ]
  },
  {
   "cell_type": "code",
   "execution_count": 9,
   "metadata": {},
   "outputs": [],
   "source": [
    "# get the average time per frame\n",
    "#frame_times = [abs(res[frame][\"time_s\"]) for frame in frames]\n",
    "\n",
    "# print average time per frame\n",
    "#print(f\"Average time per frame: {np.mean(frame_times):.4f} seconds\")\n",
    "\n",
    "# number of detections per frame\n",
    "#num_detections = [len(res[frame][\"result\"]) for frame in frames]\n",
    "\n",
    "# plot time of frame vs number of detections\n",
    "#plt.scatter(num_detections, frame_times)\n",
    "#plt.ylabel(\"Time per frame (s)\")\n",
    "#plt.xlabel(\"Number of detections\")\n",
    "#plt.title(\"Time per frame vs number of detections\")\n",
    "#plt.show()\n",
    "\n",
    "\n"
   ]
  },
  {
   "cell_type": "markdown",
   "metadata": {},
   "source": [
    "## Multirun Analysis"
   ]
  },
  {
   "cell_type": "code",
   "execution_count": 5,
   "metadata": {},
   "outputs": [],
   "source": [
    "# runs with tasks shirt, injury, person\n",
    "# frame limit 200 multirun\n",
    "run_2024_08_08 = Path(\"/home/blei/cloud_track/evaluation/archive/multirun/2024-08-07/16-10-22\")\n",
    "\n",
    "# full analysis\n",
    "run_2024_08_09 = Path(\"/home/blei/cloud_track/evaluation/archive/multirun/2024-08-09/11-26-53\")\n",
    "\n",
    "# baseline analysis: detector only: sam, glee lite, plus, pro\n",
    "run_2024_08_15_17_13_07 = Path(\"/home/blei/cloud_track/evaluation/archive/multirun/2024-08-15/17-13-07\")\n",
    "\n",
    "# runs with tasks: person, shirt_gray, shirt_green, shirt_blue, pose_laying, pose_standing, pose_sitting, injury\n",
    "# full analysis\n",
    "run_2024_08_16 = Path(\"/home/blei/cloud_track/evaluation/archive/multirun/2024-08-16/19-07-32\")\n",
    "\n",
    "# baseline analysis\n",
    "run_2024_08_18 = Path(\"/home/blei/cloud_track/evaluation/archive/multirun/2024-08-18/15-38-33\")\n",
    "\n",
    "injury_annotation_file = Path(\"/home/blei/referring_sard/assets/referring_SARD_labels.json\")\n",
    "selected_run_ours = run_2024_08_16\n",
    "selected_run_baseline = run_2024_08_18"
   ]
  },
  {
   "cell_type": "code",
   "execution_count": 6,
   "metadata": {},
   "outputs": [],
   "source": [
    "mode = \"ours\" # SELECT MODE: \"baseline\" or \"ours\"!!!!!\n",
    "mm = MultirunManager(selected_run_ours, injury_annotation_file)"
   ]
  },
  {
   "cell_type": "code",
   "execution_count": 7,
   "metadata": {},
   "outputs": [
    {
     "name": "stdout",
     "output_type": "stream",
     "text": [
      "#----------------------------------------#\n",
      "Pipeline:  gpt-4o-mini_sam/sar_person\n",
      "Using cached version for gpt-4o-mini_sam/sar_person.\n",
      "Precision: 0.8998611593196807, Recall: 0.7962223587223587, AP: 0.7522601755811302\n",
      "#----------------------------------------#\n",
      "Pipeline:  llava-hf/llava-1.5-13b-hf_sam/sar_person\n",
      "Using cached version for llava-hf/llava-1.5-13b-hf_sam/sar_person.\n",
      "Precision: 0.8752308984047019, Recall: 0.8003685503685504, AP: 0.8294660828753038\n",
      "#----------------------------------------#\n",
      "Pipeline:  llava-hf/llava-1.5-7b-hf_sam/sar_person\n",
      "Using cached version for llava-hf/llava-1.5-7b-hf_sam/sar_person.\n",
      "Precision: 0.8723831853960811, Recall: 0.7999078624078624, AP: 0.7495926962466558\n",
      "#----------------------------------------#\n",
      "Pipeline:  paligemma_sam/sar_person\n",
      "Using cached version for paligemma_sam/sar_person.\n",
      "Precision: 0.8696517412935323, Recall: 0.8052825552825553, AP: 0.828800515502325\n",
      "#----------------------------------------#\n",
      "Pipeline:  gpt-4o-mini_sam/sar_shirt_gray\n",
      "Using cached version for gpt-4o-mini_sam/sar_shirt_gray.\n",
      "Precision: 0.8321273516642547, Recall: 0.5121733966745843, AP: 0.5161421054194892\n",
      "#----------------------------------------#\n",
      "Pipeline:  llava-hf/llava-1.5-13b-hf_sam/sar_shirt_gray\n",
      "Using cached version for llava-hf/llava-1.5-13b-hf_sam/sar_shirt_gray.\n",
      "Precision: 0.5124760076775432, Recall: 0.713479809976247, AP: 0.44961956595904357\n",
      "#----------------------------------------#\n",
      "Pipeline:  llava-hf/llava-1.5-7b-hf_sam/sar_shirt_gray\n",
      "Using cached version for llava-hf/llava-1.5-7b-hf_sam/sar_shirt_gray.\n",
      "Precision: 0.5031875137392834, Recall: 0.6796318289786223, AP: 0.383801086390957\n",
      "#----------------------------------------#\n",
      "Pipeline:  paligemma_sam/sar_shirt_gray\n",
      "Using cached version for paligemma_sam/sar_shirt_gray.\n",
      "Precision: 0.4589958906557084, Recall: 0.7627672209026128, AP: 0.40345806117204075\n",
      "#----------------------------------------#\n",
      "Pipeline:  gpt-4o-mini_sam/sar_shirt_green\n",
      "Using cached version for gpt-4o-mini_sam/sar_shirt_green.\n",
      "Precision: 0.426131511528608, Recall: 0.8227535037098104, AP: 0.5312668853799057\n",
      "#----------------------------------------#\n",
      "Pipeline:  llava-hf/llava-1.5-13b-hf_sam/sar_shirt_green\n",
      "Using cached version for llava-hf/llava-1.5-13b-hf_sam/sar_shirt_green.\n",
      "Precision: 0.24987328940699444, Recall: 0.8128606760098929, AP: 0.40618727234669144\n",
      "#----------------------------------------#\n",
      "Pipeline:  llava-hf/llava-1.5-7b-hf_sam/sar_shirt_green\n",
      "Using cached version for llava-hf/llava-1.5-7b-hf_sam/sar_shirt_green.\n",
      "Precision: 0.24720528455284552, Recall: 0.8021434460016488, AP: 0.37529928234082277\n",
      "#----------------------------------------#\n",
      "Pipeline:  paligemma_sam/sar_shirt_green\n",
      "Using cached version for paligemma_sam/sar_shirt_green.\n",
      "Precision: 0.06680026720106881, Recall: 0.16488046166529266, AP: 0.03698547496403545\n",
      "#----------------------------------------#\n",
      "Pipeline:  gpt-4o-mini_sam/sar_shirt_blue\n",
      "Using cached version for gpt-4o-mini_sam/sar_shirt_blue.\n",
      "Precision: 0.3013698630136986, Recall: 1.0, AP: 0.5476495335650264\n",
      "#----------------------------------------#\n",
      "Pipeline:  llava-hf/llava-1.5-13b-hf_sam/sar_shirt_blue\n",
      "Using cached version for llava-hf/llava-1.5-13b-hf_sam/sar_shirt_blue.\n",
      "Precision: 0.18931750741839762, Recall: 0.9373163565132223, AP: 0.3404302496505203\n",
      "#----------------------------------------#\n",
      "Pipeline:  llava-hf/llava-1.5-7b-hf_sam/sar_shirt_blue\n",
      "Using cached version for llava-hf/llava-1.5-7b-hf_sam/sar_shirt_blue.\n",
      "Precision: 0.20294882914137033, Recall: 0.9167482859941234, AP: 0.35720336480773235\n",
      "#----------------------------------------#\n",
      "Pipeline:  paligemma_sam/sar_shirt_blue\n",
      "Using cached version for paligemma_sam/sar_shirt_blue.\n",
      "Precision: 0.09731846941849955, Recall: 0.31635651322233105, AP: 0.07851152845986197\n",
      "#----------------------------------------#\n",
      "Pipeline:  gpt-4o-mini_sam/sar_pose_laying\n",
      "Using cached version for gpt-4o-mini_sam/sar_pose_laying.\n",
      "Precision: 0.4618510158013544, Recall: 0.6429918290383406, AP: 0.42774670694506917\n",
      "#----------------------------------------#\n",
      "Pipeline:  llava-hf/llava-1.5-13b-hf_sam/sar_pose_laying\n",
      "Using cached version for llava-hf/llava-1.5-13b-hf_sam/sar_pose_laying.\n",
      "Precision: 0.2851700680272109, Recall: 0.6587052168447517, AP: 0.2828598199427439\n",
      "#----------------------------------------#\n",
      "Pipeline:  llava-hf/llava-1.5-7b-hf_sam/sar_pose_laying\n",
      "Using cached version for llava-hf/llava-1.5-7b-hf_sam/sar_pose_laying.\n",
      "Precision: 0.573408947700063, Recall: 0.5719673161533627, AP: 0.40655354083648254\n",
      "#----------------------------------------#\n",
      "Pipeline:  paligemma_sam/sar_pose_laying\n",
      "Using cached version for paligemma_sam/sar_pose_laying.\n",
      "Precision: 0.16482833618145099, Recall: 0.6668761785040854, AP: 0.13768510759896468\n",
      "#----------------------------------------#\n",
      "Pipeline:  gpt-4o-mini_sam/sar_pose_standing\n",
      "Using cached version for gpt-4o-mini_sam/sar_pose_standing.\n",
      "Precision: 0.5513866231647635, Recall: 0.7187666135034556, AP: 0.49399592746114107\n",
      "#----------------------------------------#\n",
      "Pipeline:  llava-hf/llava-1.5-13b-hf_sam/sar_pose_standing\n",
      "Using cached version for llava-hf/llava-1.5-13b-hf_sam/sar_pose_standing.\n",
      "Precision: 0.38977713178294576, Recall: 0.8553960659223817, AP: 0.4590374783522407\n",
      "#----------------------------------------#\n",
      "Pipeline:  llava-hf/llava-1.5-7b-hf_sam/sar_pose_standing\n",
      "Using cached version for llava-hf/llava-1.5-7b-hf_sam/sar_pose_standing.\n",
      "Precision: 0.3209726443768997, Recall: 0.8421052631578947, AP: 0.3990492317793079\n",
      "#----------------------------------------#\n",
      "Pipeline:  paligemma_sam/sar_pose_standing\n",
      "Using cached version for paligemma_sam/sar_pose_standing.\n",
      "Precision: 0.30102684201044855, Recall: 0.8883572567783095, AP: 0.39970645309949293\n",
      "#----------------------------------------#\n",
      "Pipeline:  gpt-4o-mini_sam/sar_pose_sitting\n",
      "Using cached version for gpt-4o-mini_sam/sar_pose_sitting.\n",
      "Precision: 0.23318158826504806, Recall: 0.7387820512820513, AP: 0.3008202715563845\n",
      "#----------------------------------------#\n",
      "Pipeline:  llava-hf/llava-1.5-13b-hf_sam/sar_pose_sitting\n",
      "Using cached version for llava-hf/llava-1.5-13b-hf_sam/sar_pose_sitting.\n",
      "Precision: 0.15480895915678525, Recall: 0.7532051282051282, AP: 0.21177078566570248\n",
      "#----------------------------------------#\n",
      "Pipeline:  llava-hf/llava-1.5-7b-hf_sam/sar_pose_sitting\n",
      "Using cached version for llava-hf/llava-1.5-7b-hf_sam/sar_pose_sitting.\n",
      "Precision: 0.287215411558669, Recall: 0.5256410256410257, AP: 0.25565990759558943\n",
      "#----------------------------------------#\n",
      "Pipeline:  paligemma_sam/sar_pose_sitting\n",
      "Using cached version for paligemma_sam/sar_pose_sitting.\n",
      "Precision: 0.08614864864864864, Recall: 0.8173076923076923, AP: 0.09217999762870534\n",
      "#----------------------------------------#\n",
      "Pipeline:  gpt-4o-mini_sam/sar_injury\n",
      "Using cached version for gpt-4o-mini_sam/sar_injury.\n",
      "Precision: 0.4387173396674584, Recall: 0.774748322147651, AP: 0.38102039703302015\n",
      "#----------------------------------------#\n",
      "Pipeline:  llava-hf/llava-1.5-13b-hf_sam/sar_injury\n",
      "Using cached version for llava-hf/llava-1.5-13b-hf_sam/sar_injury.\n",
      "Precision: 0.39346846846846845, Recall: 0.7328020134228188, AP: 0.4038363302154181\n",
      "#----------------------------------------#\n",
      "Pipeline:  llava-hf/llava-1.5-7b-hf_sam/sar_injury\n",
      "Using cached version for llava-hf/llava-1.5-7b-hf_sam/sar_injury.\n",
      "Precision: 0.6047215496368039, Recall: 0.4190436241610738, AP: 0.3740352998649867\n",
      "#----------------------------------------#\n",
      "Pipeline:  paligemma_sam/sar_injury\n",
      "Using cached version for paligemma_sam/sar_injury.\n",
      "Precision: 0.20113314447592068, Recall: 0.14890939597315436, AP: 0.04918155598007267\n"
     ]
    }
   ],
   "source": [
    "\n",
    "res_ours = mm.get_and_print_results(iou_threshold=0.5, mode=mode)"
   ]
  },
  {
   "cell_type": "code",
   "execution_count": 8,
   "metadata": {},
   "outputs": [
    {
     "name": "stdout",
     "output_type": "stream",
     "text": [
      "#----------------------------------------#\n",
      "Pipeline:  None_sam_hq/sar_person\n",
      "Using cached version for None_sam_hq/sar_person.\n",
      "Precision: 0.8798252002913328, Recall: 0.742014742014742, AP: 0.7260117463957936\n",
      "#----------------------------------------#\n",
      "Pipeline:  None_glee_lite/sar_person\n",
      "Using cached version for None_glee_lite/sar_person.\n",
      "Precision: 0.6488015082143819, Recall: 0.36993243243243246, AP: 0.31665972315260016\n",
      "#----------------------------------------#\n",
      "Pipeline:  None_glee_plus/sar_person\n",
      "Using cached version for None_glee_plus/sar_person.\n",
      "Precision: 0.8579943899018233, Recall: 0.3757678132678133, AP: 0.34455170523149065\n",
      "#----------------------------------------#\n",
      "Pipeline:  None_glee_pro/sar_person\n",
      "Using cached version for None_glee_pro/sar_person.\n",
      "Precision: 0.6271046094396908, Recall: 0.3488943488943489, AP: 0.30987376388031734\n",
      "#----------------------------------------#\n",
      "Pipeline:  None_sam_hq/sar_shirt_gray\n",
      "Using cached version for None_sam_hq/sar_shirt_gray.\n",
      "Precision: 0.306320586487022, Recall: 0.45902612826603323, AP: 0.2479124451131039\n",
      "#----------------------------------------#\n",
      "Pipeline:  None_glee_lite/sar_shirt_gray\n",
      "Using cached version for None_glee_lite/sar_shirt_gray.\n",
      "Precision: 0.4611166500498505, Recall: 0.2746437054631829, AP: 0.20380072018644968\n",
      "#----------------------------------------#\n",
      "Pipeline:  None_glee_plus/sar_shirt_gray\n",
      "Using cached version for None_glee_plus/sar_shirt_gray.\n",
      "Precision: 0.5978947368421053, Recall: 0.33729216152019004, AP: 0.29608631754301273\n",
      "#----------------------------------------#\n",
      "Pipeline:  None_glee_pro/sar_shirt_gray\n",
      "Using cached version for None_glee_pro/sar_shirt_gray.\n",
      "Precision: 0.36490041337842916, Recall: 0.28830166270783847, AP: 0.21087654913150508\n",
      "#----------------------------------------#\n",
      "Pipeline:  None_sam_hq/sar_shirt_green\n",
      "Using cached version for None_sam_hq/sar_shirt_green.\n",
      "Precision: 0.15463331438317227, Recall: 0.6727122835943941, AP: 0.31735138642585475\n",
      "#----------------------------------------#\n",
      "Pipeline:  None_glee_lite/sar_shirt_green\n",
      "Using cached version for None_glee_lite/sar_shirt_green.\n",
      "Precision: 0.4256716417910448, Recall: 0.5877988458367683, AP: 0.4394720776832481\n",
      "#----------------------------------------#\n",
      "Pipeline:  None_glee_plus/sar_shirt_green\n",
      "Using cached version for None_glee_plus/sar_shirt_green.\n",
      "Precision: 0.5115884680610514, Recall: 0.7460840890354493, AP: 0.5466987663057518\n",
      "#----------------------------------------#\n",
      "Pipeline:  None_glee_pro/sar_shirt_green\n",
      "Using cached version for None_glee_pro/sar_shirt_green.\n",
      "Precision: 0.20100502512562815, Recall: 0.5935696619950536, AP: 0.3563106820317612\n",
      "#----------------------------------------#\n",
      "Pipeline:  None_sam_hq/sar_shirt_blue\n",
      "Using cached version for None_sam_hq/sar_shirt_blue.\n",
      "Precision: 0.0951993490642799, Recall: 0.5729676787463271, AP: 0.1648290242984739\n",
      "#----------------------------------------#\n",
      "Pipeline:  None_glee_lite/sar_shirt_blue\n",
      "Using cached version for None_glee_lite/sar_shirt_blue.\n",
      "Precision: 0.1872103799814643, Recall: 0.5935357492654261, AP: 0.18080633394978454\n",
      "#----------------------------------------#\n",
      "Pipeline:  None_glee_plus/sar_shirt_blue\n",
      "Using cached version for None_glee_plus/sar_shirt_blue.\n",
      "Precision: 0.22598307615729218, Recall: 0.4446620959843291, AP: 0.1773012865918556\n",
      "#----------------------------------------#\n",
      "Pipeline:  None_glee_pro/sar_shirt_blue\n",
      "Using cached version for None_glee_pro/sar_shirt_blue.\n",
      "Precision: 0.17078052034689792, Recall: 0.5014691478942214, AP: 0.18051650325986904\n",
      "#----------------------------------------#\n",
      "Pipeline:  None_sam_hq/sar_pose_laying\n",
      "Using cached version for None_sam_hq/sar_pose_laying.\n",
      "Precision: 0.19046591889559966, Recall: 0.5549968573224388, AP: 0.17453410040636094\n",
      "#----------------------------------------#\n",
      "Pipeline:  None_glee_lite/sar_pose_laying\n",
      "Using cached version for None_glee_lite/sar_pose_laying.\n",
      "Precision: 0.3109469442578912, Recall: 0.5820238843494657, AP: 0.33267903518574105\n",
      "#----------------------------------------#\n",
      "Pipeline:  None_glee_plus/sar_pose_laying\n",
      "Using cached version for None_glee_plus/sar_pose_laying.\n",
      "Precision: 0.41509433962264153, Recall: 0.6222501571338781, AP: 0.423995940235951\n",
      "#----------------------------------------#\n",
      "Pipeline:  None_glee_pro/sar_pose_laying\n",
      "Using cached version for None_glee_pro/sar_pose_laying.\n",
      "Precision: 0.28703703703703703, Recall: 0.623507228158391, AP: 0.37057543838861895\n",
      "#----------------------------------------#\n",
      "Pipeline:  None_sam_hq/sar_pose_standing\n",
      "Using cached version for None_sam_hq/sar_pose_standing.\n",
      "Precision: 0.26732101616628173, Recall: 0.7384370015948963, AP: 0.27329306900183936\n",
      "#----------------------------------------#\n",
      "Pipeline:  None_glee_lite/sar_pose_standing\n",
      "Using cached version for None_glee_lite/sar_pose_standing.\n",
      "Precision: 0.24030172413793102, Recall: 0.47421584263689526, AP: 0.18505098948024984\n",
      "#----------------------------------------#\n",
      "Pipeline:  None_glee_plus/sar_pose_standing\n",
      "Using cached version for None_glee_plus/sar_pose_standing.\n",
      "Precision: 0.24148606811145512, Recall: 0.3317384370015949, AP: 0.157841964537011\n",
      "#----------------------------------------#\n",
      "Pipeline:  None_glee_pro/sar_pose_standing\n",
      "Using cached version for None_glee_pro/sar_pose_standing.\n",
      "Precision: 0.24071365896460953, Recall: 0.4375332270069112, AP: 0.19427757685495572\n",
      "#----------------------------------------#\n",
      "Pipeline:  None_sam_hq/sar_pose_sitting\n",
      "Using cached version for None_sam_hq/sar_pose_sitting.\n",
      "Precision: 0.07406630297943768, Recall: 0.5657051282051282, AP: 0.14108186650047608\n",
      "#----------------------------------------#\n",
      "Pipeline:  None_glee_lite/sar_pose_sitting\n",
      "Using cached version for None_glee_lite/sar_pose_sitting.\n",
      "Precision: 0.08432036097010716, Recall: 0.4791666666666667, AP: 0.06303834673425492\n",
      "#----------------------------------------#\n",
      "Pipeline:  None_glee_plus/sar_pose_sitting\n",
      "Using cached version for None_glee_plus/sar_pose_sitting.\n",
      "Precision: 0.10596310596310596, Recall: 0.3958333333333333, AP: 0.041691487436898815\n",
      "#----------------------------------------#\n",
      "Pipeline:  None_glee_pro/sar_pose_sitting\n",
      "Using cached version for None_glee_pro/sar_pose_sitting.\n",
      "Precision: 0.08532807659814137, Recall: 0.4855769230769231, AP: 0.05610947405566175\n",
      "#----------------------------------------#\n",
      "Pipeline:  None_sam_hq/sar_injury\n",
      "Using cached version for None_sam_hq/sar_injury.\n",
      "Precision: 0.30752287360216873, Recall: 0.7613255033557047, AP: 0.3705405483055904\n",
      "#----------------------------------------#\n",
      "Pipeline:  None_glee_lite/sar_injury\n",
      "Using cached version for None_glee_lite/sar_injury.\n",
      "Precision: 0.3024390243902439, Recall: 0.44211409395973156, AP: 0.23928031870674538\n",
      "#----------------------------------------#\n",
      "Pipeline:  None_glee_plus/sar_injury\n",
      "Using cached version for None_glee_plus/sar_injury.\n",
      "Precision: 0.36261461106181603, Recall: 0.514261744966443, AP: 0.27303742447842044\n",
      "#----------------------------------------#\n",
      "Pipeline:  None_glee_pro/sar_injury\n",
      "Using cached version for None_glee_pro/sar_injury.\n",
      "Precision: 0.35530864197530865, Recall: 0.6036073825503355, AP: 0.38361342057919096\n"
     ]
    }
   ],
   "source": [
    "mode = \"baseline\" # SELECT MODE: \"baseline\" or \"ours\"!!!!!\n",
    "mm = MultirunManager(selected_run_baseline, injury_annotation_file)\n",
    "res_baseline = mm.get_and_print_results(iou_threshold=0.5, mode=mode)"
   ]
  },
  {
   "cell_type": "code",
   "execution_count": 12,
   "metadata": {},
   "outputs": [
    {
     "name": "stdout",
     "output_type": "stream",
     "text": [
      "Baselines:\n",
      "#----------------------------------------#\n",
      "+---------------------+---------+---------+------------+---------------+---------------+------------------+---------------+---------------+------------------+--------------+--------------+-----------------+\n",
      "| Exp                 | SAM P   | SAM R   | SAM [AP]   | glee lite P   | glee lite R   | glee lite [AP]   | glee plus P   | glee plus R   | glee plus [AP]   | glee pro P   | glee pro R   | glee pro [AP]   |\n",
      "+=====================+=========+=========+============+===============+===============+==================+===============+===============+==================+==============+==============+=================+\n",
      "| person              | 87.98%  | 74.2%   | 72.6%      | 64.88%        | 36.99%        | 31.67%           | 85.8%         | 37.58%        | 34.46%           | 62.71%       | 34.89%       | 30.99%          |\n",
      "+---------------------+---------+---------+------------+---------------+---------------+------------------+---------------+---------------+------------------+--------------+--------------+-----------------+\n",
      "| shirt_gray          | 30.63%  | 45.9%   | 24.79%     | 46.11%        | 27.46%        | 20.38%           | 59.79%        | 33.73%        | 29.61%           | 36.49%       | 28.83%       | 21.09%          |\n",
      "+---------------------+---------+---------+------------+---------------+---------------+------------------+---------------+---------------+------------------+--------------+--------------+-----------------+\n",
      "| shirt_green         | 15.46%  | 67.27%  | 31.74%     | 42.57%        | 58.78%        | 43.95%           | 51.16%        | 74.61%        | 54.67%           | 20.1%        | 59.36%       | 35.63%          |\n",
      "+---------------------+---------+---------+------------+---------------+---------------+------------------+---------------+---------------+------------------+--------------+--------------+-----------------+\n",
      "| shirt_blue          | 9.52%   | 57.3%   | 16.48%     | 18.72%        | 59.35%        | 18.08%           | 22.6%         | 44.47%        | 17.73%           | 17.08%       | 50.15%       | 18.05%          |\n",
      "+---------------------+---------+---------+------------+---------------+---------------+------------------+---------------+---------------+------------------+--------------+--------------+-----------------+\n",
      "| pose_laying         | 19.05%  | 55.5%   | 17.45%     | 31.09%        | 58.2%         | 33.27%           | 41.51%        | 62.23%        | 42.4%            | 28.7%        | 62.35%       | 37.06%          |\n",
      "+---------------------+---------+---------+------------+---------------+---------------+------------------+---------------+---------------+------------------+--------------+--------------+-----------------+\n",
      "| pose_standing       | 26.73%  | 73.84%  | 27.33%     | 24.03%        | 47.42%        | 18.51%           | 24.15%        | 33.17%        | 15.78%           | 24.07%       | 43.75%       | 19.43%          |\n",
      "+---------------------+---------+---------+------------+---------------+---------------+------------------+---------------+---------------+------------------+--------------+--------------+-----------------+\n",
      "| pose_sitting        | 7.41%   | 56.57%  | 14.11%     | 8.43%         | 47.92%        | 6.3%             | 10.6%         | 39.58%        | 4.17%            | 8.53%        | 48.56%       | 5.61%           |\n",
      "+---------------------+---------+---------+------------+---------------+---------------+------------------+---------------+---------------+------------------+--------------+--------------+-----------------+\n",
      "| injury              | 30.75%  | 76.13%  | 37.05%     | 30.24%        | 44.21%        | 23.93%           | 36.26%        | 51.43%        | 27.3%            | 35.53%       | 60.36%       | 38.36%          |\n",
      "+---------------------+---------+---------+------------+---------------+---------------+------------------+---------------+---------------+------------------+--------------+--------------+-----------------+\n",
      "| mAP                 | ---     | ---     | 30.0%      | ---           | ---           | 25.0%            | ---           | ---           | 28.0%            | ---          | ---          | 26.0%           |\n",
      "+---------------------+---------+---------+------------+---------------+---------------+------------------+---------------+---------------+------------------+--------------+--------------+-----------------+\n",
      "| Time per Frame [s]  | ---     | ---     | 0.284s     | ---           | ---           | 0.161s           | ---           | ---           | 0.319s           | ---          | ---          | 1.156s          |\n",
      "+---------------------+---------+---------+------------+---------------+---------------+------------------+---------------+---------------+------------------+--------------+--------------+-----------------+\n",
      "| Time per Object [s] | ---     | ---     | 0.103s     | ---           | ---           | 0.111s           | ---           | ---           | 0.265s           | ---          | ---          | 0.666s          |\n",
      "+---------------------+---------+---------+------------+---------------+---------------+------------------+---------------+---------------+------------------+--------------+--------------+-----------------+\n",
      "Ours:\n",
      "#----------------------------------------#\n",
      "+---------------------+----------------+----------------+-------------------+---------------+---------------+------------------+--------------+--------------+-----------------+---------------+---------------+------------------+\n",
      "| Exp                 | GPT-4-mini P   | GPT-4-mini R   | GPT-4-mini [AP]   | llava 13b P   | llava 13b R   | llava 13b [AP]   | llava 7b P   | llava 7b R   | llava 7b [AP]   | Paligemma P   | Paligemma R   | Paligemma [AP]   |\n",
      "+=====================+================+================+===================+===============+===============+==================+==============+==============+=================+===============+===============+==================+\n",
      "| person              | 89.99%         | 79.62%         | 75.23%            | 87.52%        | 80.04%        | 82.95%           | 87.24%       | 79.99%       | 74.96%          | 86.97%        | 80.53%        | 82.88%           |\n",
      "+---------------------+----------------+----------------+-------------------+---------------+---------------+------------------+--------------+--------------+-----------------+---------------+---------------+------------------+\n",
      "| shirt_gray          | 83.21%         | 51.22%         | 51.61%            | 51.25%        | 71.35%        | 44.96%           | 50.32%       | 67.96%       | 38.38%          | 45.9%         | 76.28%        | 40.35%           |\n",
      "+---------------------+----------------+----------------+-------------------+---------------+---------------+------------------+--------------+--------------+-----------------+---------------+---------------+------------------+\n",
      "| shirt_green         | 42.61%         | 82.28%         | 53.13%            | 24.99%        | 81.29%        | 40.62%           | 24.72%       | 80.21%       | 37.53%          | 6.68%         | 16.49%        | 3.7%             |\n",
      "+---------------------+----------------+----------------+-------------------+---------------+---------------+------------------+--------------+--------------+-----------------+---------------+---------------+------------------+\n",
      "| shirt_blue          | 30.14%         | 100.0%         | 54.76%            | 18.93%        | 93.73%        | 34.04%           | 20.29%       | 91.67%       | 35.72%          | 9.73%         | 31.64%        | 7.85%            |\n",
      "+---------------------+----------------+----------------+-------------------+---------------+---------------+------------------+--------------+--------------+-----------------+---------------+---------------+------------------+\n",
      "| pose_laying         | 46.19%         | 64.3%          | 42.77%            | 28.52%        | 65.87%        | 28.29%           | 57.34%       | 57.2%        | 40.66%          | 16.48%        | 66.69%        | 13.77%           |\n",
      "+---------------------+----------------+----------------+-------------------+---------------+---------------+------------------+--------------+--------------+-----------------+---------------+---------------+------------------+\n",
      "| pose_standing       | 55.14%         | 71.88%         | 49.4%             | 38.98%        | 85.54%        | 45.9%            | 32.1%        | 84.21%       | 39.9%           | 30.1%         | 88.84%        | 39.97%           |\n",
      "+---------------------+----------------+----------------+-------------------+---------------+---------------+------------------+--------------+--------------+-----------------+---------------+---------------+------------------+\n",
      "| pose_sitting        | 23.32%         | 73.88%         | 30.08%            | 15.48%        | 75.32%        | 21.18%           | 28.72%       | 52.56%       | 25.57%          | 8.61%         | 81.73%        | 9.22%            |\n",
      "+---------------------+----------------+----------------+-------------------+---------------+---------------+------------------+--------------+--------------+-----------------+---------------+---------------+------------------+\n",
      "| injury              | 43.87%         | 77.47%         | 38.1%             | 39.35%        | 73.28%        | 40.38%           | 60.47%       | 41.9%        | 37.4%           | 20.11%        | 14.89%        | 4.92%            |\n",
      "+---------------------+----------------+----------------+-------------------+---------------+---------------+------------------+--------------+--------------+-----------------+---------------+---------------+------------------+\n",
      "| mAP                 | ---            | ---            | 49.0%             | ---           | ---           | 42.0%            | ---          | ---          | 41.0%           | ---           | ---           | 25.0%            |\n",
      "+---------------------+----------------+----------------+-------------------+---------------+---------------+------------------+--------------+--------------+-----------------+---------------+---------------+------------------+\n",
      "| Time per Frame [s]  | ---            | ---            | 6.955s            | ---           | ---           | 4.915s           | ---          | ---          | 3.856s          | ---           | ---           | 0.866s           |\n",
      "+---------------------+----------------+----------------+-------------------+---------------+---------------+------------------+--------------+--------------+-----------------+---------------+---------------+------------------+\n",
      "| Time per Object [s] | ---            | ---            | 2.239s            | ---           | ---           | 1.478s           | ---          | ---          | 1.16s           | ---           | ---           | 0.26s            |\n",
      "+---------------------+----------------+----------------+-------------------+---------------+---------------+------------------+--------------+--------------+-----------------+---------------+---------------+------------------+\n"
     ]
    }
   ],
   "source": [
    "print(\"Baselines:\")\n",
    "tab_baseline, headers_baseline = mm.print_result_table(res_baseline, mode=\"baseline\")\n",
    "print(\"Ours:\")\n",
    "tab_ours, headers_ours = mm.print_result_table(res_ours, mode=\"ours\")"
   ]
  },
  {
   "cell_type": "markdown",
   "metadata": {},
   "source": [
    "- Anhand von ein paar Videos mit noch komplexeren Beispielen zeigen, dass systeme an ihre Grenzen kommen. \n",
    "    - Zeigen, dass die großen modelle ein besseres semantisches Verständnis hat.\n",
    "\n",
    "Weiterhin: Erklären, warum mAP bei ChatGPT höher ist. Ergumentieren mit Recall und: ChatGPT ist darauf trainiert, vorsichtíg zu sein.\n",
    "Processing time per frame ist ok."
   ]
  },
  {
   "cell_type": "code",
   "execution_count": 13,
   "metadata": {},
   "outputs": [],
   "source": [
    "def keep_only_x(tab, header, x):\n",
    "    \n",
    "    tab_out = []    \n",
    "    for row in tab:\n",
    "        row_out = []\n",
    "        row_out.append(row[0]) # add the col header\n",
    "        \n",
    "        for i, cell in enumerate(row):\n",
    "            if i == 0:\n",
    "                continue\n",
    "            if x in header[i]:\n",
    "                row_out.append(cell)\n",
    "        tab_out.append(row_out)\n",
    "        \n",
    "                \n",
    "    # filter header as well\n",
    "    header_out = []\n",
    "    header_out.append(header[0])\n",
    "    for i, cell in enumerate(header):\n",
    "        if i == 0:\n",
    "            continue\n",
    "        if \"AP\" in header[i]:\n",
    "            header_out.append(cell)\n",
    "    return tab_out, header_out\n",
    "        "
   ]
  },
  {
   "cell_type": "code",
   "execution_count": 15,
   "metadata": {},
   "outputs": [],
   "source": [
    "output_dir = Path.cwd()\n",
    "exporter = pytex.tex_exporter(output_dir)\n",
    "\n",
    "tex_tab, header = keep_only_x(tab_ours, headers_ours, x=\"AP\")\n",
    "\n",
    "exporter.add_table(\"OursAP\", *keep_only_x(tab_ours, headers_ours, x=\"AP\"))\n",
    "exporter.add_table(\"BaselineAP\", *keep_only_x(tab_baseline, headers_baseline,x=\"AP\"))"
   ]
  },
  {
   "cell_type": "code",
   "execution_count": 16,
   "metadata": {},
   "outputs": [
    {
     "name": "stdout",
     "output_type": "stream",
     "text": [
      "Writing output to /home/blei/cloud_track/evaluation/python_results.tex.\n",
      "Exporting elements as LaTex functions\n",
      "Variables:\n",
      "Figures:\n",
      "Tables:\n",
      "\\tabOursAP\n",
      "\\tabBaselineAP\n"
     ]
    }
   ],
   "source": [
    "exporter.export()"
   ]
  },
  {
   "cell_type": "markdown",
   "metadata": {},
   "source": [
    "### debugging workbench"
   ]
  },
  {
   "cell_type": "code",
   "execution_count": 20,
   "metadata": {},
   "outputs": [
    {
     "name": "stdout",
     "output_type": "stream",
     "text": [
      "Experiment: llava-hf/llava-1.5-7b-hf_sam/sar_person\n",
      "\n",
      "Detector Performance in terms of class (i.e. in terms of 'person'):\n"
     ]
    },
    {
     "name": "stderr",
     "output_type": "stream",
     "text": [
      "100%|██████████| 100/100 [01:05<00:00,  1.53it/s]\n"
     ]
    },
    {
     "name": "stdout",
     "output_type": "stream",
     "text": [
      "Writing cache to disk.\n",
      "Precision: 86.84%\n",
      "Recall: 80.57%\n",
      "Average Precision: 82.86%\n",
      "\n",
      "Performance after semantic classification (i.e. in terms of 'person' & 'is injured'):\n",
      "Using cached version for llava-hf/llava-1.5-7b-hf_sam/sar_person.\n",
      "Precision: 87.24%\n",
      "Recall: 79.99%\n",
      "Average Precision: 74.96%\n",
      "\n",
      "Confusion Matrix:\n",
      "-------  ------\n",
      "TP 5209  FP 762\n",
      "FN 1303  TN N/A\n",
      "-------  ------\n",
      "--------------------\n",
      "Size dependent performance:\n",
      "\n",
      "Recall for size small: 79.48%\n",
      "Recall for size medium: 80.40%\n",
      "Recall for size large: 81.92%\n",
      "--------------------\n",
      "Time Information:\n",
      "\n",
      "Average time per frame: 3.87s\n",
      "Average time per object: 1.16s\n",
      "################\n",
      "Using cached version for llava-hf/llava-1.5-7b-hf_sam/sar_person.\n",
      "Precision: 93.76%\n",
      "Recall: 76.58%\n",
      "Average Precision: 74.96%\n",
      "Using cached version for llava-hf/llava-1.5-7b-hf_sam/sar_person.\n",
      "\n",
      "Max precision: 1.0364768683274022\n",
      "Max recall: 0.7999078624078624\n",
      "Average precision:  0.8972001959588263\n"
     ]
    },
    {
     "data": {
      "image/png": "[encoded data removed]",
      "text/plain": [
       "<Figure size 640x480 with 1 Axes>"
      ]
     },
     "metadata": {},
     "output_type": "display_data"
    }
   ],
   "source": [
    "#run = Path(\"/home/blei/cloud_track/evaluation/archive/multirun/2024-08-07/16-10-22/11\")\n",
    "run = Path(\"/home/blei/cloud_track/evaluation/archive/multirun/2024-08-16/19-07-32/0\")\n",
    "\n",
    "pipeline = ExperimentPipeline(run, injury_annotation_file)\n",
    "pipeline.print_full_report(iou_threshold=0.5)\n",
    "print(\"################\")\n",
    "pipeline.print_precision_recall(iou_threshold=0.5, conf_threshold=0.25)\n",
    "fig = pipeline.make_precision_recall_plot()"
   ]
  }
 ],
 "metadata": {
  "kernelspec": {
   "display_name": "python-3.10",
   "language": "python",
   "name": "python3"
  },
  "language_info": {
   "codemirror_mode": {
    "name": "ipython",
    "version": 3
   },
   "file_extension": ".py",
   "mimetype": "text/x-python",
   "name": "python",
   "nbconvert_exporter": "python",
   "pygments_lexer": "ipython3",
   "version": "3.10.12"
  }
 },
 "nbformat": 4,
 "nbformat_minor": 2
}
